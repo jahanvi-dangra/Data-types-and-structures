{
  "nbformat": 4,
  "nbformat_minor": 0,
  "metadata": {
    "colab": {
      "provenance": []
    },
    "kernelspec": {
      "name": "python3",
      "display_name": "Python 3"
    },
    "language_info": {
      "name": "python"
    }
  },
  "cells": [
    {
      "cell_type": "markdown",
      "source": [
        "**DATA TYPES AND DATA STRUCTURES**"
      ],
      "metadata": {
        "id": "cUW8meQmkKtc"
      }
    },
    {
      "cell_type": "markdown",
      "source": [
        "1. *What are data structures, and why are they important*?\n",
        "\n",
        "- Data structures are ways to organize and store data in an effienct manner. Think of them as containers that hold your data and determine how you can interact with it.    \n",
        " *Why they are important?*\n",
        "- conserve memory usage\n",
        "- Optimize searching and sorting operations\n",
        "- Simply data manipulation(modifying elements, adding, removing).\n",
        "\n",
        "\n",
        "2. *Explain the difference between mutable and immutable data types with examples*.\n",
        "- Mutable data types are object that can be changed and modify (e.g., list, set, dictionary)\n",
        "- Immutable data types are those which can't be change and modify (e.g., int, float, tuples, bool etc.)\n",
        "\n",
        "\n",
        "\n",
        "3. *What are the main differences between lists and tuples in Python*?\n",
        "- The main difference between lists and tuples in python is mutability.\n",
        "  Lists are mutable while tuples are immutable.\n",
        "-\n",
        "Lists performance is slightly slower than tuples.\n",
        "- Lists have many built-in functions such as append( ), remove( ), pop( ), sort( ), etc.\n",
        "- Tuples have few functions such as count( ), index( ).\n",
        "\n",
        "\n",
        "4. *Describe how dictionaries store data*.\n",
        "- Dictionary is unordered collections of data having unique key-value pairs. Each key acts as a unique identifier for retrieving an associated value.\n",
        "- Keys and values can be of various data types(strings, numbers, lists and even other dictionaries)."
      ],
      "metadata": {
        "id": "U_rtd_n6leHG"
      }
    },
    {
      "cell_type": "code",
      "execution_count": null,
      "metadata": {
        "id": "a1XMTSffjOoq"
      },
      "outputs": [],
      "source": [
        "# For example (taking an example of name of medicines with their dosage and expiry date)\n",
        "mydict = {\"Name\": \"Aspirin\", \"Dosage\": \"75mg\", \"Expiry date\": \"07/2026\"}"
      ]
    },
    {
      "cell_type": "code",
      "source": [
        "print(mydict)"
      ],
      "metadata": {
        "colab": {
          "base_uri": "https://localhost:8080/"
        },
        "id": "7G--haZ-m2ts",
        "outputId": "dba7fa12-a885-43f7-b164-b2e2c653b13c"
      },
      "execution_count": null,
      "outputs": [
        {
          "output_type": "stream",
          "name": "stdout",
          "text": [
            "{'Name': 'Aspirin', 'Dosage': '75mg', 'Expiry date': '07/2026'}\n"
          ]
        }
      ]
    },
    {
      "cell_type": "code",
      "source": [
        "mydict.keys()"
      ],
      "metadata": {
        "colab": {
          "base_uri": "https://localhost:8080/"
        },
        "id": "eTIlGOCzz3Ui",
        "outputId": "ba7b4ed4-bdbf-4570-b84f-af082134b501"
      },
      "execution_count": null,
      "outputs": [
        {
          "output_type": "execute_result",
          "data": {
            "text/plain": [
              "dict_keys(['Name', 'Dosage', 'Expiry date'])"
            ]
          },
          "metadata": {},
          "execution_count": 9
        }
      ]
    },
    {
      "cell_type": "code",
      "source": [
        "mydict.values()"
      ],
      "metadata": {
        "colab": {
          "base_uri": "https://localhost:8080/"
        },
        "id": "AN2SBYPprZPX",
        "outputId": "35f50094-1ff4-412c-ada0-55cb33b1b4cb"
      },
      "execution_count": null,
      "outputs": [
        {
          "output_type": "execute_result",
          "data": {
            "text/plain": [
              "dict_values(['Aspirin', '75mg', '07/2026'])"
            ]
          },
          "metadata": {},
          "execution_count": 5
        }
      ]
    },
    {
      "cell_type": "markdown",
      "source": [
        "5. *Why might you use a set instead of a list in Python*?\n",
        "- A set might be use instead of a list in python because set automatically removes duplicates. If you will add the same item multiple times, it will only keep the one.\n",
        "- Sets support useful operations like union, intersection, difference and symmetric difference."
      ],
      "metadata": {
        "id": "O91L95WEzXZw"
      }
    },
    {
      "cell_type": "markdown",
      "source": [
        " 6. *What is a string in Python, and how is it different from a list.*\n",
        " - Strings in python are characters arranged in an unchageable order. Strings can be joined together and altered using a variety of techniques( find, replace, etc.).\n",
        " - It is different from a list in a way that strings are are immutable and lists are mutable.\n",
        " - In strings, data type is text(characters) and in lists, data type is mixed type(int, float, bool, etc.)."
      ],
      "metadata": {
        "id": "uwPr9nAdNI9K"
      }
    },
    {
      "cell_type": "markdown",
      "source": [
        "7. *How do tuples ensure data integrity in Python?*\n",
        "- Data integrity means keeping data protected from unintended modifications.\n",
        "- Tuples ensure this integrity because tuples are immutable and you can't add, remove or change anything inside a tuple after it is created."
      ],
      "metadata": {
        "id": "zDell1UnQ6kE"
      }
    },
    {
      "cell_type": "markdown",
      "source": [
        "8. *What is a hash table, and how does it relate to dictionaries in Python?*\n",
        "- Hash table  is a data structure to store key-value pairs.  \n",
        "- Python automatically hashes the keys to store and retrieve the data super fast using the hash function.\n",
        "- Dictionaries is python's built-in version of hash-table."
      ],
      "metadata": {
        "id": "mvZP1MUQYsWW"
      }
    },
    {
      "cell_type": "markdown",
      "source": [
        "9. *Can lists contain different data types in Python?*\n",
        "- Yes, lists can contain different data types in python. Lists can store heterogeneous data (int, float, string, bool etc.)."
      ],
      "metadata": {
        "id": "X8KtuvzycArY"
      }
    },
    {
      "cell_type": "code",
      "source": [
        "# Example of a list with different data types:\n",
        "mylist = [\"bill payment\", \"240\", \"98.5\", \"False\"]"
      ],
      "metadata": {
        "id": "h4iqbScCrf1x"
      },
      "execution_count": 1,
      "outputs": []
    },
    {
      "cell_type": "markdown",
      "source": [
        "10. *Explain why strings are immutable in Python.*\n",
        "- Strings are immutable in python because it makes them safe to share and use in many places and also improve performance and memory usage."
      ],
      "metadata": {
        "id": "7UuDeAp22mzI"
      }
    },
    {
      "cell_type": "markdown",
      "source": [
        "11. *What advantages do dictionaries offer over lists for certain tasks?*\n",
        "\n",
        " Advantages of dictionaries over lists for certain tasks:\n",
        "- Fast lookup by label/keys.\n",
        "- Dictionaries store data with meaningful labels.\n",
        "- Dictionary access elements using descriptive keys(e.g.\"name:\"), unlike list which use index numbers.\n",
        "\n",
        ""
      ],
      "metadata": {
        "id": "b2DUIRs_H-bv"
      }
    },
    {
      "cell_type": "markdown",
      "source": [
        "12. *Describe a scenario where using a tuple would be preferable over a list*.\n",
        "- Tuples provide secure way to store data that couldn't be modified.\n",
        "- It protects the data from being changed because tuples are immutable.\n",
        "- Scenario: storing drug information having fixed properties such as drug name, dosage and route of administration.\n",
        "- Once a drug's name, dosage, and route are defined they usually don't change in that record and tuples ensures no accidental modifications."
      ],
      "metadata": {
        "id": "Ta2WNpz8Q804"
      }
    },
    {
      "cell_type": "code",
      "source": [
        "#For example\n",
        "# Storing drug information using tuples.\n",
        "drug_info = (\"Levocetrizine\", \"5mg\", \"oral\")"
      ],
      "metadata": {
        "id": "BjAJF6kn2iur"
      },
      "execution_count": 1,
      "outputs": []
    },
    {
      "cell_type": "markdown",
      "source": [
        "13. *How do sets handle duplicate values in Python?*\n",
        "- Sets are  unordered collection of unique elements.\n",
        "- Duplicates enteries are not allowed in sets, it removes duplicates automatically."
      ],
      "metadata": {
        "id": "hs3BDlmonGh4"
      }
    },
    {
      "cell_type": "code",
      "source": [
        "#For example\n",
        "unique_med = {\"albendazole\", \"vancomycin\", \"fluoroquinolones\", \"vancomycin\", \"albendazole\"}\n",
        "unique_med   # As you can see, it automatically removes the duplicate medicine from the list."
      ],
      "metadata": {
        "colab": {
          "base_uri": "https://localhost:8080/"
        },
        "id": "eKzXR2_YnFF9",
        "outputId": "021867cf-1fbb-423c-e0ff-8a0a7acba06b"
      },
      "execution_count": 2,
      "outputs": [
        {
          "output_type": "execute_result",
          "data": {
            "text/plain": [
              "{'albendazole', 'fluoroquinolones', 'vancomycin'}"
            ]
          },
          "metadata": {},
          "execution_count": 2
        }
      ]
    },
    {
      "cell_type": "markdown",
      "source": [
        "14. *How does the “in” keyword work differently for lists and dictionaries?*\n",
        "\n",
        "The \"in\" keyword is used to check if value exists in a list, dictionary and other data structures.\n",
        "- In the list, \"in\" keyword checks if the given value exists as an element in the list.\n",
        "-In dictionaries, \"in\" keyword checks for keys."
      ],
      "metadata": {
        "id": "Ql5FeHQSpSWj"
      }
    },
    {
      "cell_type": "code",
      "source": [
        "# For list\n",
        "lst = [\"jahanvi\", \"3.0\", \"25\", \"dangra\"]\n",
        "print(lst)\n",
        "# \"in\" keyword in list\n",
        "print(\"jahanvi\"in lst)"
      ],
      "metadata": {
        "colab": {
          "base_uri": "https://localhost:8080/"
        },
        "id": "qgJfJlxBpHxN",
        "outputId": "e947e2a8-bee4-4d02-8161-fbd5c74cccc1"
      },
      "execution_count": 5,
      "outputs": [
        {
          "output_type": "stream",
          "name": "stdout",
          "text": [
            "['jahanvi', '3.0', '25', 'dangra']\n",
            "True\n"
          ]
        }
      ]
    },
    {
      "cell_type": "code",
      "source": [
        "# For dictionary\n",
        "dict = {'Name':'jahanvi', 'roll no.':'20'}\n",
        "print(dict)\n",
        "# \"in\" keyword in dictionaries\n",
        "print(\"Name\" in dict)\n",
        "print(\"jahanvi\" in dict) # False : because it's a value not a key."
      ],
      "metadata": {
        "colab": {
          "base_uri": "https://localhost:8080/"
        },
        "id": "EVTOQGP-ZTYo",
        "outputId": "db39e2db-54f1-409f-f38e-b8ba6e40f338"
      },
      "execution_count": 9,
      "outputs": [
        {
          "output_type": "stream",
          "name": "stdout",
          "text": [
            "{'Name': 'jahanvi', 'roll no.': '20'}\n",
            "True\n",
            "False\n"
          ]
        }
      ]
    },
    {
      "cell_type": "markdown",
      "source": [
        "15. *Can you modify the elements of a tuple? Explain why or why not*?\n",
        "- No, you cannot modify the elements of a tuple because tuple is immutable data structure. Once a tuple is created its element cannot be changed, it will raise an error."
      ],
      "metadata": {
        "id": "fnhMBcY8bPJI"
      }
    },
    {
      "cell_type": "markdown",
      "source": [
        "16. *What is a nested dictionary, and give an example of its use case*?\n",
        "- Nested dictionary is a dictionary inside a dictionary."
      ],
      "metadata": {
        "id": "qWi1crDrcLQa"
      }
    },
    {
      "cell_type": "code",
      "source": [
        "# use case example\n",
        "pharma = {\n",
        "    \"Amoxicillin\":{\n",
        "        \"dosage\": \"250mg\",\n",
        "        \"price\": 3.00,\n",
        "        \"stock\": 60\n",
        "\n",
        "        },\n",
        "    \"Verapamil\":{\n",
        "        \"dosage\":\"300mg\",\n",
        "        \"price\":12.00,\n",
        "        \"stock\":80\n",
        "        }\n",
        "    }\n",
        "pharma"
      ],
      "metadata": {
        "colab": {
          "base_uri": "https://localhost:8080/"
        },
        "id": "GittfGaKaoZ8",
        "outputId": "dc374740-91bd-422a-cacb-6c6420cf866e"
      },
      "execution_count": 20,
      "outputs": [
        {
          "output_type": "execute_result",
          "data": {
            "text/plain": [
              "{'Amoxicillin': {'dosage': '250mg', 'price': 3.0, 'stock': 60},\n",
              " 'Verapamil': {'dosage': '300mg', 'price': 12.0, 'stock': 80}}"
            ]
          },
          "metadata": {},
          "execution_count": 20
        }
      ]
    },
    {
      "cell_type": "code",
      "source": [
        "print(pharma[\"Verapamil\"][\"dosage\"])"
      ],
      "metadata": {
        "colab": {
          "base_uri": "https://localhost:8080/"
        },
        "id": "t5xtHAP3fOYS",
        "outputId": "ef42e4ba-7151-413a-ec0d-f4f5b6948848"
      },
      "execution_count": 22,
      "outputs": [
        {
          "output_type": "stream",
          "name": "stdout",
          "text": [
            "300mg\n"
          ]
        }
      ]
    },
    {
      "cell_type": "markdown",
      "source": [
        "17. *Describe the time complexity of accessing elements in a dictionary.*\n",
        "- Dictionary use hash table data structure internally to store and retrieve data and its lookup are generally fast.\n",
        "\n",
        "Talking about the time complexity of accesssing elements in a dictionary:\n",
        "- When you try to access value using a key, a hash function is applied to the key and this quickly determines which memory the corresponding value is stored in. This lookup process takes a fixed amount of time regardless of the number of items in the dictionary."
      ],
      "metadata": {
        "id": "IEAR8VCKf07h"
      }
    },
    {
      "cell_type": "markdown",
      "source": [
        "18. *In what situations are lists preferred over dictionaries*?\n",
        "- Lists are preferred over dictionaries in the situations where we want to modify an elements in the list because list is mutable.\n",
        "- In case if you need to maintain the exact order of elements.\n",
        "- You can easily access position of the elements in the list using indexing.\n",
        "- Lists allow duplicates values(for example: list of multiple patients taking same medicines).\n"
      ],
      "metadata": {
        "id": "n8_YL7Iejwg-"
      }
    },
    {
      "cell_type": "markdown",
      "source": [
        "19. *Why are dictionaries considered unordered, and how does that affect data retrieval*?\n",
        "- Dictionaries are considered unordered because the items (key-value pairs) did not follow any fix order.\n",
        "\n",
        "How it affects data retrieval:\n",
        "- Fast access of elements by keys.\n",
        "- No indexing.\n"
      ],
      "metadata": {
        "id": "fBEcLkhQpxJE"
      }
    },
    {
      "cell_type": "markdown",
      "source": [
        "20. *Explain the difference between a list and a dictionary in terms of data retrieval.*\n",
        "\n",
        "Lists:\n",
        "- Elements are accessed by index numbers(list[1]).\n",
        "- Data structure: ordered sequence\n",
        "- Data retieval speed is slow.\n",
        "- Simple collections are used.\n",
        "\n",
        "Dictionaries:\n",
        "\n",
        "- Elements are accessed by key(dict[\"key]).\n",
        "- Data structure: key-value pairs\n",
        "- Data retrieval speed is fast.\n",
        "- Structured data with labels are used."
      ],
      "metadata": {
        "id": "veULiCcFxzVw"
      }
    },
    {
      "cell_type": "markdown",
      "source": [
        "**PRACTICAL** **QUESTIONS**"
      ],
      "metadata": {
        "id": "Gq42JMDTzyoE"
      }
    },
    {
      "cell_type": "markdown",
      "source": [
        "1.  *Write a code to create a string with your name and print it.*"
      ],
      "metadata": {
        "id": "d4ANlZ84z4T9"
      }
    },
    {
      "cell_type": "code",
      "source": [
        "my_name = \"Jahanvi Dangra\"\n",
        "print(\"My name is:\", my_name)"
      ],
      "metadata": {
        "colab": {
          "base_uri": "https://localhost:8080/"
        },
        "id": "3HOeLWPtfuuc",
        "outputId": "dc7aabbb-52fe-42e3-a630-8fb44105ccb9"
      },
      "execution_count": 26,
      "outputs": [
        {
          "output_type": "stream",
          "name": "stdout",
          "text": [
            "My name is: Jahanvi Dangra\n"
          ]
        }
      ]
    },
    {
      "cell_type": "markdown",
      "source": [
        "2. *Write a code to find the length of the string \"Hello World\".*"
      ],
      "metadata": {
        "id": "s_0dogL-5QYD"
      }
    },
    {
      "cell_type": "code",
      "source": [
        "# Define the string\n",
        "str = \"Hello World\"\n",
        "str"
      ],
      "metadata": {
        "colab": {
          "base_uri": "https://localhost:8080/",
          "height": 35
        },
        "id": "fv5DrvU51lJ4",
        "outputId": "1a4e2ea6-c1ba-420e-b6c9-fcf9e4acdf05"
      },
      "execution_count": 27,
      "outputs": [
        {
          "output_type": "execute_result",
          "data": {
            "text/plain": [
              "'Hello World'"
            ],
            "application/vnd.google.colaboratory.intrinsic+json": {
              "type": "string"
            }
          },
          "metadata": {},
          "execution_count": 27
        }
      ]
    },
    {
      "cell_type": "code",
      "source": [
        "len(str)"
      ],
      "metadata": {
        "colab": {
          "base_uri": "https://localhost:8080/"
        },
        "id": "eyt_LASW4jTm",
        "outputId": "7b4e5d67-33de-499a-a834-663225796075"
      },
      "execution_count": 28,
      "outputs": [
        {
          "output_type": "execute_result",
          "data": {
            "text/plain": [
              "11"
            ]
          },
          "metadata": {},
          "execution_count": 28
        }
      ]
    },
    {
      "cell_type": "markdown",
      "source": [
        "3.* Write a code to slice the first 3 characters from the string \"Python Programming\"*."
      ],
      "metadata": {
        "id": "9XPxhXpb5WGV"
      }
    },
    {
      "cell_type": "code",
      "source": [
        "str = \"Python Programming\"\n",
        "str"
      ],
      "metadata": {
        "colab": {
          "base_uri": "https://localhost:8080/",
          "height": 35
        },
        "id": "K1V7VQLz4otN",
        "outputId": "17e1a968-53e4-4865-aefa-c4638025be75"
      },
      "execution_count": 29,
      "outputs": [
        {
          "output_type": "execute_result",
          "data": {
            "text/plain": [
              "'Python Programming'"
            ],
            "application/vnd.google.colaboratory.intrinsic+json": {
              "type": "string"
            }
          },
          "metadata": {},
          "execution_count": 29
        }
      ]
    },
    {
      "cell_type": "code",
      "source": [
        "sliced_text = str[0:3]\n",
        "print(\"first 3 characters:\", sliced_text)"
      ],
      "metadata": {
        "colab": {
          "base_uri": "https://localhost:8080/"
        },
        "id": "THlVeA8y5g3m",
        "outputId": "1bf938c2-d915-492f-a536-b787f1734b93"
      },
      "execution_count": 37,
      "outputs": [
        {
          "output_type": "stream",
          "name": "stdout",
          "text": [
            "first 3 characters: Pyt\n"
          ]
        }
      ]
    },
    {
      "cell_type": "markdown",
      "source": [
        "4. *Write a code to convert the string \"hello\" to uppercase.*"
      ],
      "metadata": {
        "id": "LkMTCJM7-qVP"
      }
    },
    {
      "cell_type": "code",
      "source": [
        "str = \"hello\"\n",
        "str"
      ],
      "metadata": {
        "colab": {
          "base_uri": "https://localhost:8080/",
          "height": 35
        },
        "id": "l9eOcgVM5sqV",
        "outputId": "60efef88-53ac-4a2b-ac5a-f598e4c0d36b"
      },
      "execution_count": 45,
      "outputs": [
        {
          "output_type": "execute_result",
          "data": {
            "text/plain": [
              "'hello'"
            ],
            "application/vnd.google.colaboratory.intrinsic+json": {
              "type": "string"
            }
          },
          "metadata": {},
          "execution_count": 45
        }
      ]
    },
    {
      "cell_type": "code",
      "source": [
        "str.upper()"
      ],
      "metadata": {
        "colab": {
          "base_uri": "https://localhost:8080/",
          "height": 35
        },
        "id": "KbWr45riBx9U",
        "outputId": "e45f60da-49ac-4101-b400-ab8b1f6eea91"
      },
      "execution_count": 46,
      "outputs": [
        {
          "output_type": "execute_result",
          "data": {
            "text/plain": [
              "'HELLO'"
            ],
            "application/vnd.google.colaboratory.intrinsic+json": {
              "type": "string"
            }
          },
          "metadata": {},
          "execution_count": 46
        }
      ]
    },
    {
      "cell_type": "markdown",
      "source": [
        "5. *Write a code to replace the word \"apple\" with \"orange\" in the string \"I like apple\"*."
      ],
      "metadata": {
        "id": "RP_VvOpFCAY8"
      }
    },
    {
      "cell_type": "code",
      "source": [
        "str = \"I like apple\"\n",
        "str"
      ],
      "metadata": {
        "colab": {
          "base_uri": "https://localhost:8080/",
          "height": 35
        },
        "id": "zBFRruthCADF",
        "outputId": "03b60ec1-cd40-491c-d72f-141d7bdb7cc1"
      },
      "execution_count": 42,
      "outputs": [
        {
          "output_type": "execute_result",
          "data": {
            "text/plain": [
              "'I like apple'"
            ],
            "application/vnd.google.colaboratory.intrinsic+json": {
              "type": "string"
            }
          },
          "metadata": {},
          "execution_count": 42
        }
      ]
    },
    {
      "cell_type": "code",
      "source": [
        "# replaced string\n",
        "str.replace(\"apple\", \"orange\")"
      ],
      "metadata": {
        "colab": {
          "base_uri": "https://localhost:8080/",
          "height": 35
        },
        "id": "mu5r_i8GCNZt",
        "outputId": "47b4e882-9fbd-40af-e9c8-451c33fa4ee4"
      },
      "execution_count": 43,
      "outputs": [
        {
          "output_type": "execute_result",
          "data": {
            "text/plain": [
              "'I like orange'"
            ],
            "application/vnd.google.colaboratory.intrinsic+json": {
              "type": "string"
            }
          },
          "metadata": {},
          "execution_count": 43
        }
      ]
    },
    {
      "cell_type": "markdown",
      "source": [
        "6. *Write a code to create a list with numbers 1 to 5 and print it*."
      ],
      "metadata": {
        "id": "hXcBTrU8CdMf"
      }
    },
    {
      "cell_type": "code",
      "source": [
        "lst = [1, 2, 3, 4, 5]\n",
        "print(lst)"
      ],
      "metadata": {
        "colab": {
          "base_uri": "https://localhost:8080/"
        },
        "id": "T5Mobu1DCSIe",
        "outputId": "723fd94d-c705-4244-aecb-c6ac9cd50477"
      },
      "execution_count": 49,
      "outputs": [
        {
          "output_type": "stream",
          "name": "stdout",
          "text": [
            "[1, 2, 3, 4, 5]\n"
          ]
        }
      ]
    },
    {
      "cell_type": "markdown",
      "source": [
        "7. *Write a code to append the number 10 to the list [1, 2, 3, 4]*."
      ],
      "metadata": {
        "id": "RtyZgIcLDo9J"
      }
    },
    {
      "cell_type": "code",
      "source": [
        "list = [1, 2, 3, 4]\n",
        "list"
      ],
      "metadata": {
        "colab": {
          "base_uri": "https://localhost:8080/"
        },
        "id": "Oap-FtuzDhO6",
        "outputId": "d6e0f302-38d1-4184-bb5c-83b140b031b0"
      },
      "execution_count": 59,
      "outputs": [
        {
          "output_type": "execute_result",
          "data": {
            "text/plain": [
              "[1, 2, 3, 4]"
            ]
          },
          "metadata": {},
          "execution_count": 59
        }
      ]
    },
    {
      "cell_type": "code",
      "source": [
        "list.append(10)\n",
        "print(\"append list:\", list)\n"
      ],
      "metadata": {
        "colab": {
          "base_uri": "https://localhost:8080/"
        },
        "id": "-ssIlJN-EJ66",
        "outputId": "fd20f443-db8f-4ec8-b205-cd9b54368a06"
      },
      "execution_count": 60,
      "outputs": [
        {
          "output_type": "stream",
          "name": "stdout",
          "text": [
            "append list: [1, 2, 3, 4, 10]\n"
          ]
        }
      ]
    },
    {
      "cell_type": "markdown",
      "source": [
        "8. *Write a code to remove the number 3 from the list [1, 2, 3, 4, 5]*."
      ],
      "metadata": {
        "id": "bwI4kXi5Fn8o"
      }
    },
    {
      "cell_type": "code",
      "source": [
        "list = [1, 2, 3, 4, 5]\n",
        "list"
      ],
      "metadata": {
        "colab": {
          "base_uri": "https://localhost:8080/"
        },
        "id": "ZAjwqLoUElCb",
        "outputId": "059a84c0-61fa-4449-f724-0b53a0dd1e4d"
      },
      "execution_count": 67,
      "outputs": [
        {
          "output_type": "execute_result",
          "data": {
            "text/plain": [
              "[1, 2, 3, 4, 5]"
            ]
          },
          "metadata": {},
          "execution_count": 67
        }
      ]
    },
    {
      "cell_type": "code",
      "source": [
        "# to remove the number from the list remove function will be used.\n",
        "list.remove(3)\n",
        "print(\"updated list:\", list)"
      ],
      "metadata": {
        "colab": {
          "base_uri": "https://localhost:8080/"
        },
        "id": "YQMzjCDGGGOj",
        "outputId": "725c3d17-937d-4faa-d7ab-288207c3669f"
      },
      "execution_count": 68,
      "outputs": [
        {
          "output_type": "stream",
          "name": "stdout",
          "text": [
            "updated list: [1, 2, 4, 5]\n"
          ]
        }
      ]
    },
    {
      "cell_type": "markdown",
      "source": [
        "9.* Write a code to access the second element in the list ['a', 'b', 'c', 'd']*"
      ],
      "metadata": {
        "id": "eed21n2uG5CJ"
      }
    },
    {
      "cell_type": "code",
      "source": [
        "lst = ['a','b','c','d']\n",
        "lst"
      ],
      "metadata": {
        "colab": {
          "base_uri": "https://localhost:8080/"
        },
        "id": "mkwmhEcbGLH7",
        "outputId": "cc191f39-aada-465a-a698-5a2a02887bb3"
      },
      "execution_count": 75,
      "outputs": [
        {
          "output_type": "execute_result",
          "data": {
            "text/plain": [
              "['a', 'b', 'c', 'd']"
            ]
          },
          "metadata": {},
          "execution_count": 75
        }
      ]
    },
    {
      "cell_type": "code",
      "source": [
        "#To access the second element indexing will be done.\n",
        "second_element = lst[1]\n",
        "print(\"second element:\", second_element)"
      ],
      "metadata": {
        "colab": {
          "base_uri": "https://localhost:8080/"
        },
        "id": "yJNs4IfyHHHU",
        "outputId": "d5bcabde-5fae-48e6-ea42-81dd6c63f701"
      },
      "execution_count": 76,
      "outputs": [
        {
          "output_type": "stream",
          "name": "stdout",
          "text": [
            "second element: b\n"
          ]
        }
      ]
    },
    {
      "cell_type": "markdown",
      "source": [
        "10. *Write a code to reverse the list [10, 20, 30, 40, 50]*."
      ],
      "metadata": {
        "id": "GUmAj8ChJ72t"
      }
    },
    {
      "cell_type": "code",
      "source": [
        "# to reverse the list\n",
        "lst = [10, 20, 30, 40, 50]\n",
        "lst"
      ],
      "metadata": {
        "colab": {
          "base_uri": "https://localhost:8080/"
        },
        "id": "vKtE2CXgHm0c",
        "outputId": "cf34caa7-c294-4940-f225-8011ba27f197"
      },
      "execution_count": 77,
      "outputs": [
        {
          "output_type": "execute_result",
          "data": {
            "text/plain": [
              "[10, 20, 30, 40, 50]"
            ]
          },
          "metadata": {},
          "execution_count": 77
        }
      ]
    },
    {
      "cell_type": "code",
      "source": [
        "reversed_lst = lst[::-1]\n",
        "print(\"reverse list:\", reversed_lst)"
      ],
      "metadata": {
        "colab": {
          "base_uri": "https://localhost:8080/"
        },
        "id": "Ck9pTq62KHfF",
        "outputId": "c844ed08-4c44-4e46-84f6-073e618444a7"
      },
      "execution_count": 78,
      "outputs": [
        {
          "output_type": "stream",
          "name": "stdout",
          "text": [
            "reverse list: [50, 40, 30, 20, 10]\n"
          ]
        }
      ]
    },
    {
      "cell_type": "markdown",
      "source": [
        "11. *Write a code to create a tuple with the elements 100, 200, 300 and print it*."
      ],
      "metadata": {
        "id": "_r3OVP9SKX5K"
      }
    },
    {
      "cell_type": "code",
      "source": [
        "# code to create a tuple\n",
        "tuple = (100, 200, 300)\n",
        "print(\"my tuple:\", tuple)\n"
      ],
      "metadata": {
        "colab": {
          "base_uri": "https://localhost:8080/"
        },
        "id": "MMqP6uJHKWit",
        "outputId": "e0d64f70-50d1-4117-ee96-38e1aa5ba9f4"
      },
      "execution_count": 79,
      "outputs": [
        {
          "output_type": "stream",
          "name": "stdout",
          "text": [
            "my tuple: (100, 200, 300)\n"
          ]
        }
      ]
    },
    {
      "cell_type": "markdown",
      "source": [
        "12. *Write a code to access the second-to-last element of the tuple ('red', 'green', 'blue', 'yellow')*."
      ],
      "metadata": {
        "id": "3vEgishNLJrn"
      }
    },
    {
      "cell_type": "code",
      "source": [
        "my_tuple = ('red', 'green', 'blue', 'yellow')\n",
        "my_tuple"
      ],
      "metadata": {
        "colab": {
          "base_uri": "https://localhost:8080/"
        },
        "id": "OkwkfvPWLG3j",
        "outputId": "edbdf266-a74f-4821-ad80-7a5147f86673"
      },
      "execution_count": 80,
      "outputs": [
        {
          "output_type": "execute_result",
          "data": {
            "text/plain": [
              "('red', 'green', 'blue', 'yellow')"
            ]
          },
          "metadata": {},
          "execution_count": 80
        }
      ]
    },
    {
      "cell_type": "code",
      "source": [
        "second_to_last_element = my_tuple[-2]\n",
        "print(\"second-to-last element of the tuple:\", second_to_last_element)"
      ],
      "metadata": {
        "colab": {
          "base_uri": "https://localhost:8080/"
        },
        "id": "dlMco7-ELxhG",
        "outputId": "88c1b569-7eaf-4e55-f72b-270a293decdd"
      },
      "execution_count": 84,
      "outputs": [
        {
          "output_type": "stream",
          "name": "stdout",
          "text": [
            "second-to-last element of the tuple: blue\n"
          ]
        }
      ]
    },
    {
      "cell_type": "markdown",
      "source": [
        "13. * Write a code to find the minimum number in the tuple (10, 20, 5, 15)*."
      ],
      "metadata": {
        "id": "FnqInqtAMraS"
      }
    },
    {
      "cell_type": "code",
      "source": [
        "tuple = (10, 20, 5, 15)\n",
        "tuple"
      ],
      "metadata": {
        "colab": {
          "base_uri": "https://localhost:8080/"
        },
        "id": "PtpBXcmgMLQZ",
        "outputId": "dd54f860-4038-4e72-ca07-6cde2ca34e6f"
      },
      "execution_count": 85,
      "outputs": [
        {
          "output_type": "execute_result",
          "data": {
            "text/plain": [
              "(10, 20, 5, 15)"
            ]
          },
          "metadata": {},
          "execution_count": 85
        }
      ]
    },
    {
      "cell_type": "code",
      "source": [
        "min_num = min(tuple)\n",
        "print(\"minimum number:\", min_num)"
      ],
      "metadata": {
        "colab": {
          "base_uri": "https://localhost:8080/"
        },
        "id": "u91DfHSfNV4G",
        "outputId": "48f6bf57-4828-4c35-eb81-f84685891b85"
      },
      "execution_count": 87,
      "outputs": [
        {
          "output_type": "stream",
          "name": "stdout",
          "text": [
            "minimum number: 5\n"
          ]
        }
      ]
    },
    {
      "cell_type": "markdown",
      "source": [
        "14.* Write a code to find the index of the element \"cat\" in the tuple ('dog', 'cat', 'rabbit')*."
      ],
      "metadata": {
        "id": "jqotNNbyNhmH"
      }
    },
    {
      "cell_type": "code",
      "source": [
        "tup = ('dog', 'cat', 'rabbit')\n",
        "tup"
      ],
      "metadata": {
        "colab": {
          "base_uri": "https://localhost:8080/"
        },
        "id": "j6KQESVkNbE-",
        "outputId": "415f904d-7803-4f8a-a30e-6ca5f61fb88f"
      },
      "execution_count": 89,
      "outputs": [
        {
          "output_type": "execute_result",
          "data": {
            "text/plain": [
              "('dog', 'cat', 'rabbit')"
            ]
          },
          "metadata": {},
          "execution_count": 89
        }
      ]
    },
    {
      "cell_type": "code",
      "source": [
        "#index of \"cat\"\n",
        "index_cat = tup.index(\"cat\")\n",
        "print(\"index of cat is:\", index_cat)"
      ],
      "metadata": {
        "colab": {
          "base_uri": "https://localhost:8080/"
        },
        "id": "B1KXf1lYNw_n",
        "outputId": "ce96202f-5247-4ab6-a51f-d316da3de15d"
      },
      "execution_count": 94,
      "outputs": [
        {
          "output_type": "stream",
          "name": "stdout",
          "text": [
            "index of cat is: 1\n"
          ]
        }
      ]
    },
    {
      "cell_type": "markdown",
      "source": [
        "15. *Write a code to create a tuple containing three different fruits and check if \"kiwi\" is in it*."
      ],
      "metadata": {
        "id": "LVu4cYj-O3PG"
      }
    },
    {
      "cell_type": "code",
      "source": [
        "different_fruits = ('orange', 'avocado', 'banana')\n",
        "different_fruits"
      ],
      "metadata": {
        "colab": {
          "base_uri": "https://localhost:8080/"
        },
        "id": "nMJyonx3OEi2",
        "outputId": "c719357e-4b3d-4b43-80b4-b5b0e66a7145"
      },
      "execution_count": 98,
      "outputs": [
        {
          "output_type": "execute_result",
          "data": {
            "text/plain": [
              "('orange', 'avocado', 'banana')"
            ]
          },
          "metadata": {},
          "execution_count": 98
        }
      ]
    },
    {
      "cell_type": "code",
      "source": [
        "# to check if kiwi is in it: in keyword will be used.\n",
        "'kiwi' in different_fruits   # it is showing that kiwi is not in the tuple"
      ],
      "metadata": {
        "colab": {
          "base_uri": "https://localhost:8080/"
        },
        "id": "xKs7EmR4PL2x",
        "outputId": "ae249055-513d-451b-f0b1-62f051d6525e"
      },
      "execution_count": 99,
      "outputs": [
        {
          "output_type": "execute_result",
          "data": {
            "text/plain": [
              "False"
            ]
          },
          "metadata": {},
          "execution_count": 99
        }
      ]
    },
    {
      "cell_type": "markdown",
      "source": [
        "16. *Write a code to create a set with the elements 'a', 'b', 'c' and print it.*"
      ],
      "metadata": {
        "id": "1j89HB4ERAaZ"
      }
    },
    {
      "cell_type": "code",
      "source": [
        "set = {'a','b','c'}\n",
        "print(\"my set:\", set)  #sets are unordered collection of elements and that's why it's showing this output."
      ],
      "metadata": {
        "colab": {
          "base_uri": "https://localhost:8080/"
        },
        "id": "Y8IAXociPbEv",
        "outputId": "c4b9654f-2029-4c40-87c0-23c9b1f339d4"
      },
      "execution_count": 104,
      "outputs": [
        {
          "output_type": "stream",
          "name": "stdout",
          "text": [
            "my set: {'b', 'c', 'a'}\n"
          ]
        }
      ]
    },
    {
      "cell_type": "markdown",
      "source": [
        "17. *Write a code to clear all elements from the set {1, 2, 3, 4, 5}*."
      ],
      "metadata": {
        "id": "8VBGnbk_RygS"
      }
    },
    {
      "cell_type": "code",
      "source": [
        "set = {1, 2, 3, 4, 5}\n",
        "set"
      ],
      "metadata": {
        "colab": {
          "base_uri": "https://localhost:8080/"
        },
        "id": "UioDJ-CfRO4o",
        "outputId": "14d774f6-4d90-42c0-d440-7fdcd753bc35"
      },
      "execution_count": 106,
      "outputs": [
        {
          "output_type": "execute_result",
          "data": {
            "text/plain": [
              "{1, 2, 3, 4, 5}"
            ]
          },
          "metadata": {},
          "execution_count": 106
        }
      ]
    },
    {
      "cell_type": "code",
      "source": [
        "#to clear all the elements of the set\n",
        "set.clear()\n",
        "print(set)"
      ],
      "metadata": {
        "colab": {
          "base_uri": "https://localhost:8080/"
        },
        "id": "eidOJgMqSnkx",
        "outputId": "b6d57416-1b0a-4c0b-f72e-840b98fd278e"
      },
      "execution_count": 108,
      "outputs": [
        {
          "output_type": "stream",
          "name": "stdout",
          "text": [
            "set()\n"
          ]
        }
      ]
    },
    {
      "cell_type": "markdown",
      "source": [
        "18.* Write a code to remove the element 4 from the set {1, 2, 3, 4}*."
      ],
      "metadata": {
        "id": "wWljtC88TCdk"
      }
    },
    {
      "cell_type": "code",
      "source": [
        "my_set = {1, 2, 3, 4}\n",
        "my_set"
      ],
      "metadata": {
        "colab": {
          "base_uri": "https://localhost:8080/"
        },
        "id": "E0Ew9RCeS5bL",
        "outputId": "c0207151-1ef1-4246-dbf0-413e7f4126be"
      },
      "execution_count": 125,
      "outputs": [
        {
          "output_type": "execute_result",
          "data": {
            "text/plain": [
              "{1, 2, 3, 4}"
            ]
          },
          "metadata": {},
          "execution_count": 125
        }
      ]
    },
    {
      "cell_type": "code",
      "source": [
        "my_set.remove(4)\n",
        "print(\"New set:\", my_set)"
      ],
      "metadata": {
        "colab": {
          "base_uri": "https://localhost:8080/"
        },
        "id": "lC82qlMlTNl5",
        "outputId": "9b729e18-7219-4980-b43a-6912997fcf5d"
      },
      "execution_count": 126,
      "outputs": [
        {
          "output_type": "stream",
          "name": "stdout",
          "text": [
            "New set: {1, 2, 3}\n"
          ]
        }
      ]
    },
    {
      "cell_type": "markdown",
      "source": [
        "19. *Write a code to find the union of two sets {1, 2, 3} and {3, 4, 5}*."
      ],
      "metadata": {
        "id": "eXOs4vt0Unux"
      }
    },
    {
      "cell_type": "code",
      "source": [
        "set1 = {1, 2, 3}\n",
        "set2 = {3, 4, 5}\n",
        "# To find the union of two sets\n",
        "union_set = set1 | set2\n",
        "union_set"
      ],
      "metadata": {
        "colab": {
          "base_uri": "https://localhost:8080/"
        },
        "id": "hIJIXELOTpOK",
        "outputId": "c46aec79-fa3d-428b-f852-7a96f5918a21"
      },
      "execution_count": 127,
      "outputs": [
        {
          "output_type": "execute_result",
          "data": {
            "text/plain": [
              "{1, 2, 3, 4, 5}"
            ]
          },
          "metadata": {},
          "execution_count": 127
        }
      ]
    },
    {
      "cell_type": "markdown",
      "source": [
        "20. *Write a code to find the intersection of two sets {1, 2, 3} and {2, 3, 4}*."
      ],
      "metadata": {
        "id": "RwKpNHBmWF6g"
      }
    },
    {
      "cell_type": "code",
      "source": [
        "set1 = {1, 2, 3}\n",
        "set2 = {2, 3, 4}\n",
        "intersection_set = set1 & set2\n",
        "intersection_set"
      ],
      "metadata": {
        "colab": {
          "base_uri": "https://localhost:8080/"
        },
        "id": "HZlkyto1WEdq",
        "outputId": "dbdc16e1-d32d-4981-f09d-a4cc79ad7c98"
      },
      "execution_count": 128,
      "outputs": [
        {
          "output_type": "execute_result",
          "data": {
            "text/plain": [
              "{2, 3}"
            ]
          },
          "metadata": {},
          "execution_count": 128
        }
      ]
    },
    {
      "cell_type": "markdown",
      "source": [
        "21. *Write a code to create a dictionary with the keys \"name\", \"age\", and \"city\", and print it*."
      ],
      "metadata": {
        "id": "gT14XN7FWaLg"
      }
    },
    {
      "cell_type": "code",
      "source": [
        "my_dict = {\"name\": \"jahanvi\", \"age\": \"22\", \"city\": \"alwar\"}\n",
        "print(\"My dictionary:\", my_dict)"
      ],
      "metadata": {
        "colab": {
          "base_uri": "https://localhost:8080/"
        },
        "id": "_b-Sd50-WYcV",
        "outputId": "f0f34d43-b462-4bf3-fec7-f0adb3cee2b7"
      },
      "execution_count": 129,
      "outputs": [
        {
          "output_type": "stream",
          "name": "stdout",
          "text": [
            "My dictionary: {'name': 'jahanvi', 'age': '22', 'city': 'alwar'}\n"
          ]
        }
      ]
    },
    {
      "cell_type": "markdown",
      "source": [
        "22. *Write a code to add a new key-value pair \"country\": \"USA\" to the dictionary {'name': 'John', 'age': 25}*."
      ],
      "metadata": {
        "id": "Ma-yjl3IXWbC"
      }
    },
    {
      "cell_type": "code",
      "source": [
        "dict = {'name': 'John', 'age': 25}\n",
        "dict"
      ],
      "metadata": {
        "colab": {
          "base_uri": "https://localhost:8080/"
        },
        "id": "aB0wYkdLXUjj",
        "outputId": "c87f18c7-de56-4f20-9991-51c6b5e10382"
      },
      "execution_count": 131,
      "outputs": [
        {
          "output_type": "execute_result",
          "data": {
            "text/plain": [
              "{'name': 'John', 'age': 25}"
            ]
          },
          "metadata": {},
          "execution_count": 131
        }
      ]
    },
    {
      "cell_type": "code",
      "source": [
        "# To add a new key-value pair\n",
        "update_dict = {'country': 'USA'}\n",
        "dict.update(update_dict)\n",
        "print(dict)"
      ],
      "metadata": {
        "colab": {
          "base_uri": "https://localhost:8080/"
        },
        "id": "plqYHBNXXoAr",
        "outputId": "53998522-7ea8-4418-fddb-45510f6422fc"
      },
      "execution_count": 132,
      "outputs": [
        {
          "output_type": "stream",
          "name": "stdout",
          "text": [
            "{'name': 'John', 'age': 25, 'country': 'USA'}\n"
          ]
        }
      ]
    },
    {
      "cell_type": "markdown",
      "source": [
        "23. *Write a code to access the value associated with the key \"name\" in the dictionary {'name': 'Alice', 'age': 30}*."
      ],
      "metadata": {
        "id": "LTdYS5PhYcuC"
      }
    },
    {
      "cell_type": "code",
      "source": [
        "dict = {'name': 'Alice','age': 30}\n",
        "dict"
      ],
      "metadata": {
        "colab": {
          "base_uri": "https://localhost:8080/"
        },
        "id": "l3VllGhaYiMY",
        "outputId": "2e32be45-c6aa-4b7e-9b79-f09a1cae4e7e"
      },
      "execution_count": 137,
      "outputs": [
        {
          "output_type": "execute_result",
          "data": {
            "text/plain": [
              "{'name': 'Alice', 'age': 30}"
            ]
          },
          "metadata": {},
          "execution_count": 137
        }
      ]
    },
    {
      "cell_type": "code",
      "source": [
        "# to access the value associated with the key\"name\"\n",
        "dict['name']"
      ],
      "metadata": {
        "colab": {
          "base_uri": "https://localhost:8080/",
          "height": 35
        },
        "id": "ymcEbY-8Ysl0",
        "outputId": "4136afc9-bd19-4223-8270-29e63e49322d"
      },
      "execution_count": 140,
      "outputs": [
        {
          "output_type": "execute_result",
          "data": {
            "text/plain": [
              "'Alice'"
            ],
            "application/vnd.google.colaboratory.intrinsic+json": {
              "type": "string"
            }
          },
          "metadata": {},
          "execution_count": 140
        }
      ]
    },
    {
      "cell_type": "markdown",
      "source": [
        "24. *Write a code to remove the key \"age\" from the dictionary {'name': 'Bob', 'age': 22, 'city': 'New York'}*."
      ],
      "metadata": {
        "id": "hOIfMfkbZoOc"
      }
    },
    {
      "cell_type": "code",
      "source": [
        "dict = {'name': 'Bob', 'age': 22, 'city':'New York'}\n",
        "dict"
      ],
      "metadata": {
        "colab": {
          "base_uri": "https://localhost:8080/"
        },
        "id": "Z3A0mnZNZAFy",
        "outputId": "47b7421e-e13a-42a1-ad64-10f5248da14e"
      },
      "execution_count": 141,
      "outputs": [
        {
          "output_type": "execute_result",
          "data": {
            "text/plain": [
              "{'name': 'Bob', 'age': 22, 'city': 'New York'}"
            ]
          },
          "metadata": {},
          "execution_count": 141
        }
      ]
    },
    {
      "cell_type": "code",
      "source": [
        "dict.pop('age') # pop is used to remove the specific key and return the corresponsding value.\n",
        "print(dict)"
      ],
      "metadata": {
        "colab": {
          "base_uri": "https://localhost:8080/"
        },
        "id": "FRpS1GMIZ8WM",
        "outputId": "c329e4c4-0771-419d-e992-fedbdd16fb9f"
      },
      "execution_count": 143,
      "outputs": [
        {
          "output_type": "stream",
          "name": "stdout",
          "text": [
            "{'name': 'Bob', 'city': 'New York'}\n"
          ]
        }
      ]
    },
    {
      "cell_type": "markdown",
      "source": [
        "25. *Write a code to check if the key \"city\" exists in the dictionary {'name': 'Alice', 'city': 'Paris'}*."
      ],
      "metadata": {
        "id": "fnDEpzIQa48q"
      }
    },
    {
      "cell_type": "code",
      "source": [
        "my_dict = {'name': 'Alice', 'city':'Paris'}\n",
        "my_dict"
      ],
      "metadata": {
        "colab": {
          "base_uri": "https://localhost:8080/"
        },
        "id": "YkTOWMyxaIXE",
        "outputId": "cb54776c-cbc3-45c2-95c1-ed12e78d1444"
      },
      "execution_count": 144,
      "outputs": [
        {
          "output_type": "execute_result",
          "data": {
            "text/plain": [
              "{'name': 'Alice', 'city': 'Paris'}"
            ]
          },
          "metadata": {},
          "execution_count": 144
        }
      ]
    },
    {
      "cell_type": "code",
      "source": [
        "# To check if the key \"city\" exists in dictionary\n",
        "'city' in my_dict   # True means it exist in the dictionary."
      ],
      "metadata": {
        "colab": {
          "base_uri": "https://localhost:8080/"
        },
        "id": "bEgtZ9GfbNDH",
        "outputId": "7436d600-7fb5-4b5d-c8ef-938affc09d2d"
      },
      "execution_count": 145,
      "outputs": [
        {
          "output_type": "execute_result",
          "data": {
            "text/plain": [
              "True"
            ]
          },
          "metadata": {},
          "execution_count": 145
        }
      ]
    },
    {
      "cell_type": "markdown",
      "source": [
        "26.  *Write a code to create a list, a tuple, and a dictionary, and print them all*"
      ],
      "metadata": {
        "id": "_jItDMfNbjFl"
      }
    },
    {
      "cell_type": "code",
      "source": [
        "list = [\"soap\",\"face wash\", \"serum\", \"hair oil\"]\n",
        "tuple = (250, 300, 150, 110)\n",
        "dict = {'fruit': 'orange', 'vegetable':'capsicum','spice':'salt'}"
      ],
      "metadata": {
        "id": "FRGdWzzmbdF0"
      },
      "execution_count": 151,
      "outputs": []
    },
    {
      "cell_type": "code",
      "source": [
        "print(\"List:\", list)\n",
        "print(\"Tuple:\", tuple)\n",
        "print(\"Dictionary:\", dict)"
      ],
      "metadata": {
        "colab": {
          "base_uri": "https://localhost:8080/"
        },
        "id": "cdOD3Z67eJl-",
        "outputId": "158ceb1d-4dc6-4432-b62e-c8e33c77fe35"
      },
      "execution_count": 155,
      "outputs": [
        {
          "output_type": "stream",
          "name": "stdout",
          "text": [
            "List: ['soap', 'face wash', 'serum', 'hair oil']\n",
            "Tuple: (250, 300, 150, 110)\n",
            "Dictionary: {'fruit': 'orange', 'vegetable': 'capsicum', 'spice': 'salt'}\n"
          ]
        }
      ]
    },
    {
      "cell_type": "markdown",
      "source": [
        "27. *Write a code to create a list of 5 random numbers between 1 and 100, sort it in ascending order, and print the result.*"
      ],
      "metadata": {
        "id": "Q6jE55mFegjO"
      }
    },
    {
      "cell_type": "code",
      "source": [
        "import random\n",
        "random_numbers = [random.randint(1, 100) for _ in range(5)]\n",
        "\n",
        "random_numbers.sort()\n",
        "print(\"sorted random number:\", random_numbers)"
      ],
      "metadata": {
        "colab": {
          "base_uri": "https://localhost:8080/"
        },
        "id": "P0AdfDfBeb4W",
        "outputId": "1fc78385-b9e6-4bc6-f570-cea01818d37a"
      },
      "execution_count": 170,
      "outputs": [
        {
          "output_type": "stream",
          "name": "stdout",
          "text": [
            "sorted random number: [33, 74, 88, 97, 99]\n"
          ]
        }
      ]
    },
    {
      "cell_type": "markdown",
      "source": [
        "28.  *Write a code to create a list with strings and print the element at the third index*."
      ],
      "metadata": {
        "id": "1-7UvrXMimwa"
      }
    },
    {
      "cell_type": "code",
      "source": [
        " list = [\"Epidermis\", \"dermis\",\"hypodermis\", \"sebaceous gland\"]\n",
        " list"
      ],
      "metadata": {
        "colab": {
          "base_uri": "https://localhost:8080/"
        },
        "id": "986Z72XIgLTH",
        "outputId": "dbdb0150-3b20-4cfc-c516-989b39ee074f"
      },
      "execution_count": 172,
      "outputs": [
        {
          "output_type": "execute_result",
          "data": {
            "text/plain": [
              "['Epidermis', 'dermis', 'hypodermis', 'sebaceous gland']"
            ]
          },
          "metadata": {},
          "execution_count": 172
        }
      ]
    },
    {
      "cell_type": "code",
      "source": [
        "# Element at third index\n",
        "list[3]\n",
        "print(\"Element at index 3:\", list[3])"
      ],
      "metadata": {
        "colab": {
          "base_uri": "https://localhost:8080/"
        },
        "id": "yHj7TtCyi7Sp",
        "outputId": "33084c30-3614-4f82-b62f-e04f216ec57b"
      },
      "execution_count": 175,
      "outputs": [
        {
          "output_type": "stream",
          "name": "stdout",
          "text": [
            "Element at index 3: sebaceous gland\n"
          ]
        }
      ]
    },
    {
      "cell_type": "markdown",
      "source": [
        "29. *Write a code to combine two dictionaries into one and print the result*."
      ],
      "metadata": {
        "id": "5sjDGz2JjnF4"
      }
    },
    {
      "cell_type": "code",
      "source": [
        "dict1 = {\"brother\":\"2345\", \"sister\":\"97468\"}\n",
        "dict2 = {\"uncle\": 8786, \"aunty\":4565}"
      ],
      "metadata": {
        "id": "pjg3ymFfjO4Y"
      },
      "execution_count": 176,
      "outputs": []
    },
    {
      "cell_type": "code",
      "source": [
        "combine_dict = (dict1, dict2)\n",
        "print(\"combined dictionaries:\", combine_dict)"
      ],
      "metadata": {
        "colab": {
          "base_uri": "https://localhost:8080/"
        },
        "id": "M1GvUr_OkrSR",
        "outputId": "02574e06-c0c2-4dee-bbfc-b57cc3d1bf08"
      },
      "execution_count": 177,
      "outputs": [
        {
          "output_type": "stream",
          "name": "stdout",
          "text": [
            "combined dictionaries: ({'brother': '2345', 'sister': '97468'}, {'uncle': 8786, 'aunty': 4565})\n"
          ]
        }
      ]
    },
    {
      "cell_type": "markdown",
      "source": [
        "30. *Write a code to convert a list of strings into a set*."
      ],
      "metadata": {
        "id": "TwT-xDq7k9KU"
      }
    },
    {
      "cell_type": "code",
      "source": [
        "my_list = [\"table\",\"couch\",\"table\",\"curtains\",\"lamp\"]\n",
        "my_list"
      ],
      "metadata": {
        "colab": {
          "base_uri": "https://localhost:8080/"
        },
        "id": "M2P5PXqGk6Si",
        "outputId": "baef8e67-3964-4e4f-f1d2-e9006c3a5cd0"
      },
      "execution_count": 181,
      "outputs": [
        {
          "output_type": "execute_result",
          "data": {
            "text/plain": [
              "['table', 'couch', 'table', 'curtains', 'lamp']"
            ]
          },
          "metadata": {},
          "execution_count": 181
        }
      ]
    },
    {
      "cell_type": "code",
      "source": [
        "del set\n",
        "converted_set = set(my_list)\n",
        "print(\"set:\", converted_set)"
      ],
      "metadata": {
        "colab": {
          "base_uri": "https://localhost:8080/"
        },
        "id": "wEP0CVG-mIyh",
        "outputId": "e3408f16-3518-4806-ccb8-f768209ac0f6"
      },
      "execution_count": 183,
      "outputs": [
        {
          "output_type": "stream",
          "name": "stdout",
          "text": [
            "set: {'couch', 'table', 'lamp', 'curtains'}\n"
          ]
        }
      ]
    },
    {
      "cell_type": "markdown",
      "source": [
        "***THANK*** ***YOU***"
      ],
      "metadata": {
        "id": "dfly2b2k6wDx"
      }
    }
  ]
}